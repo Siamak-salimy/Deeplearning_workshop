{
  "nbformat": 4,
  "nbformat_minor": 0,
  "metadata": {
    "colab": {
      "provenance": []
    },
    "kernelspec": {
      "name": "python3",
      "display_name": "Python 3"
    },
    "language_info": {
      "name": "python"
    }
  },
  "cells": [
    {
      "cell_type": "code",
      "source": [
        "# Circle Area\n",
        "print('The area is :  ' , (3.14*(((int (input('Enter circel diameter:') ))/2)**2)))"
      ],
      "metadata": {
        "colab": {
          "base_uri": "https://localhost:8080/"
        },
        "id": "x8YhCh0Qdcgg",
        "outputId": "f86145eb-1859-441c-e80b-58c6a16c5d20"
      },
      "execution_count": 11,
      "outputs": [
        {
          "output_type": "stream",
          "name": "stdout",
          "text": [
            "Enter circel diameter:5\n",
            "The area is :   19.625\n"
          ]
        }
      ]
    },
    {
      "cell_type": "code",
      "source": [
        "# Cube\n",
        "w = int (input('Enter cube Width  :'))\n",
        "h = int (input('Enter cube Height :'))\n",
        "l = int (input('Enter cube length :'))\n",
        "\n",
        "print('The area is :  ',w*l ,'The volume is :  ',w*h*l )\n",
        "\n",
        "# Import libraries\n",
        "import matplotlib.pyplot as plt\n",
        "from mpl_toolkits.mplot3d import Axes3D\n",
        "import numpy as np\n",
        " \n",
        " \n",
        "# Create axis\n",
        "axes = [w, h, l]\n",
        " \n",
        "# Create Data\n",
        "data = np.ones(axes, dtype=np.bool)\n",
        " \n",
        "# Control Transparency\n",
        "alpha = 0.9\n",
        " \n",
        "# Control colour\n",
        "colors = np.empty(axes + [4], dtype=np.float32)\n",
        " \n",
        "colors[:] = [1, 0, 0, alpha]  # red\n",
        " \n",
        "# Plot figure\n",
        "fig = plt.figure()\n",
        "ax = fig.add_subplot(111, projection='3d')\n",
        " \n",
        "# Voxels is used to customizations of the\n",
        "# sizes, positions and colors.\n",
        "ax.voxels(data, facecolors=colors)\n"
      ],
      "metadata": {
        "id": "rc8j0zNneJRG"
      },
      "execution_count": null,
      "outputs": []
    },
    {
      "cell_type": "code",
      "source": [
        "#Tuple\n",
        "mytuple = ()\n",
        "tuple_sister = (\"Zahra\",\"Simin\",\"Shima\",\"Shirin\",\"Soha\",\"Ziba\",\"susan\")\n",
        "tuple_brothers = (\"Ali\",\"Reza\",\"Sasan\",\"Saman\",\"Kia\",)\n",
        "tuple_sister_brothers = tuple_sister + tuple_brothers\n",
        "print (' I have ',len(tuple_sister) ,'Sisters and ' ,len(tuple_brothers ) , 'Brothers' )\n",
        "\n",
        "tuple_family =  (tuple_sister_brothers + ( \"Zinat\",\"Arsha\"))\n",
        "print ( 'My Dad\\'s name is',\"\\033[91m\" ,tuple_family[-1],\"\\033[0m\" ,'And My Mom\\'s name is ',\"\\033[92m\",tuple_family[-2],\"\\033[0m\")"
      ],
      "metadata": {
        "id": "2BM-RaM1lLuR"
      },
      "execution_count": null,
      "outputs": []
    },
    {
      "cell_type": "code",
      "source": [
        "#Fuinal Project\n",
        "import random\n",
        "\n",
        "# Generate a random number between 1 and 100\n",
        "number = random.randint(1, 100)\n",
        "\n",
        "# Loop until the user guesses the correct number\n",
        "while True:\n",
        "    guess = int(input(\"Guess a number between 1 and 100: \"))\n",
        "    if guess == number:\n",
        "        print(\"Congratulations! You guessed the correct number.it was\",\"\\033[95m\",number,\"\\033[0m\")\n",
        "        break\n",
        "    elif guess < number:\n",
        "        print(\"Your guess is  low. Try again.\")\n",
        "    else:\n",
        "        print(\"Your guess is  high. Try again.\")"
      ],
      "metadata": {
        "id": "m-0ZAOOSv2Xa"
      },
      "execution_count": null,
      "outputs": []
    }
  ]
}