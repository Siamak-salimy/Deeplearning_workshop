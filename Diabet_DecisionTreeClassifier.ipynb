{
  "cells": [
    {
      "cell_type": "markdown",
      "source": [
        "*Siamak Salimy*"
      ],
      "metadata": {
        "id": "QB4Ur3iCrkBy"
      },
      "id": "QB4Ur3iCrkBy"
    },
    {
      "cell_type": "code",
      "source": [
        "from google.colab import drive\n",
        "drive.mount('/content/drive')"
      ],
      "metadata": {
        "colab": {
          "base_uri": "https://localhost:8080/"
        },
        "id": "9rY6qPXanyVU",
        "outputId": "251a0a62-0a2f-434e-ec7c-c8eb9a412769"
      },
      "id": "9rY6qPXanyVU",
      "execution_count": 1,
      "outputs": [
        {
          "output_type": "stream",
          "name": "stdout",
          "text": [
            "Mounted at /content/drive\n"
          ]
        }
      ]
    },
    {
      "cell_type": "code",
      "execution_count": 3,
      "id": "d4830199",
      "metadata": {
        "id": "d4830199"
      },
      "outputs": [],
      "source": [
        "import pandas as pd\n",
        "from sklearn.tree import DecisionTreeClassifier\n",
        "from sklearn.model_selection import train_test_split\n",
        "from sklearn.metrics import accuracy_score\n"
      ]
    },
    {
      "cell_type": "code",
      "execution_count": null,
      "id": "966ffe77",
      "metadata": {
        "id": "966ffe77"
      },
      "outputs": [],
      "source": [
        "data = pd.read_csv('/content/drive/MyDrive/workshop/DecisionTree/diabetes.csv')\n",
        "X = data.drop('Outcome', axis=1)\n",
        "y = data['Outcome']\n",
        "X_train, X_test, y_train, y_test = train_test_split(X, y, test_size=0.2, random_state=42)\n",
        "clf = DecisionTreeClassifier()\n",
        "clf.fit(X_train, y_train)\n",
        "y_pred = clf.predict(X_test)\n",
        "accuracy = accuracy_score(y_test, y_pred)\n",
        "print(\"Accuracy:\", accuracy)"
      ]
    },
    {
      "cell_type": "code",
      "execution_count": 31,
      "id": "5e5a0398",
      "metadata": {
        "colab": {
          "base_uri": "https://localhost:8080/"
        },
        "id": "5e5a0398",
        "outputId": "76e5c1f6-0d82-480c-f10e-cfaf86a97638"
      },
      "outputs": [
        {
          "output_type": "stream",
          "name": "stdout",
          "text": [
            "predicted_label For input data is :  [0]\n"
          ]
        }
      ],
      "source": [
        "new_data = pd.read_csv('/content/drive/MyDrive/workshop/DecisionTree/newdata.csv')\n",
        "X_new = new_data.drop('Outcome', axis=1)\n",
        "y_pred_new = clf.predict(X_new)\n",
        "new_data['predicted_label'] = y_pred_new\n",
        "print (\"predicted_label For input data is : \",y_pred_new)\n"
      ]
    }
  ],
  "metadata": {
    "kernelspec": {
      "display_name": "Python 3 (ipykernel)",
      "language": "python",
      "name": "python3"
    },
    "language_info": {
      "codemirror_mode": {
        "name": "ipython",
        "version": 3
      },
      "file_extension": ".py",
      "mimetype": "text/x-python",
      "name": "python",
      "nbconvert_exporter": "python",
      "pygments_lexer": "ipython3",
      "version": "3.10.9"
    },
    "colab": {
      "provenance": []
    }
  },
  "nbformat": 4,
  "nbformat_minor": 5
}